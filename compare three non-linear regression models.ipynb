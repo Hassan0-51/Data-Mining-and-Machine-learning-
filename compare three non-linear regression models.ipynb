{
 "cells": [
  {
   "cell_type": "markdown",
   "metadata": {
    "notebookRunGroups": {
     "groupValue": "2"
    }
   },
   "source": [
    "Importing Required Libraries\n"
   ]
  },
  {
   "cell_type": "code",
   "execution_count": 9,
   "metadata": {},
   "outputs": [],
   "source": [
    "import pandas as pd\n",
    "import numpy as np\n",
    "from sklearn.model_selection import train_test_split\n",
    "from sklearn.svm import SVR\n",
    "from sklearn.tree import DecisionTreeRegressor\n",
    "from sklearn.ensemble import RandomForestRegressor\n",
    "from sklearn.metrics import mean_squared_error, mean_absolute_error, r2_score\n"
   ]
  },
  {
   "cell_type": "markdown",
   "metadata": {},
   "source": [
    "##Evaluating Model ,Processing and spliting data"
   ]
  },
  {
   "cell_type": "code",
   "execution_count": 10,
   "metadata": {},
   "outputs": [],
   "source": [
    "def evaluate_model(model, X_test, y_test):\n",
    "    \"\"\"\n",
    "    Evaluate the model using MSE, MAE, and R2 metrics.\n",
    "    \"\"\"\n",
    "    predictions = model.predict(X_test)\n",
    "    mse = mean_squared_error(y_test, predictions)\n",
    "    mae = mean_absolute_error(y_test, predictions)\n",
    "    r2 = r2_score(y_test, predictions)\n",
    "    return mse, mae, r2\n",
    "\n",
    "def run_models(data, target_column):\n",
    "    \"\"\"\n",
    "    Preprocess data, split into training and testing sets (80%-20%), train three regression models,\n",
    "    and print out evaluation metrics.\n",
    "    \"\"\"\n",
    "    # Separate features and target\n",
    "    X = data.drop(columns=[target_column])\n",
    "    y = data[target_column]\n",
    "    \n",
    "    # Convert categorical variables to dummy variables (if any)\n",
    "    X = pd.get_dummies(X, drop_first=True)\n",
    "    \n",
    "    # Split the dataset into training (80%) and testing (20%)\n",
    "    X_train, X_test, y_train, y_test = train_test_split(X, y, test_size=0.2, random_state=42)\n",
    "    \n",
    "    # Initialize models\n",
    "    models = {\n",
    "        'SVR': SVR(kernel='rbf'),\n",
    "        'Decision Tree': DecisionTreeRegressor(random_state=42),\n",
    "        'Random Forest': RandomForestRegressor(n_estimators=100, random_state=42)\n",
    "    }\n",
    "    \n",
    "    results = {}\n",
    "    for name, model in models.items():\n",
    "        model.fit(X_train, y_train)\n",
    "        mse, mae, r2 = evaluate_model(model, X_test, y_test)\n",
    "        results[name] = {'MSE': mse, 'MAE': mae, 'R2': r2}\n",
    "        print(f\"{name} Results:\")\n",
    "        print(f\"  MSE: {mse:.4f}\")\n",
    "        print(f\"  MAE: {mae:.4f}\")\n",
    "        print(f\"  R2: {r2:.4f}\")\n",
    "        print(\"-\" * 30)\n",
    "        \n",
    "    return results\n"
   ]
  },
  {
   "cell_type": "markdown",
   "metadata": {},
   "source": [
    "###Analyze Dataset 1 – Brain Tumor Dataset"
   ]
  },
  {
   "cell_type": "code",
   "execution_count": 11,
   "metadata": {},
   "outputs": [
    {
     "name": "stdout",
     "output_type": "stream",
     "text": [
      "Brain Tumor Dataset Columns:\n",
      "Index(['Patient_ID', 'Age', 'Gender', 'Tumor_Type', 'Tumor_Size', 'Location',\n",
      "       'Histology', 'Stage', 'Symptom_1', 'Symptom_2', 'Symptom_3',\n",
      "       'Radiation_Treatment', 'Surgery_Performed', 'Chemotherapy',\n",
      "       'Survival_Rate', 'Tumor_Growth_Rate', 'Family_History', 'MRI_Result',\n",
      "       'Follow_Up_Required'],\n",
      "      dtype='object')\n",
      "Running models on Brain Tumor Dataset...\n",
      "SVR Results:\n",
      "  MSE: 7.4788\n",
      "  MAE: 2.3582\n",
      "  R2: -0.0009\n",
      "------------------------------\n",
      "Decision Tree Results:\n",
      "  MSE: 15.4735\n",
      "  MAE: 3.2124\n",
      "  R2: -1.0708\n",
      "------------------------------\n",
      "Random Forest Results:\n",
      "  MSE: 7.7166\n",
      "  MAE: 2.3836\n",
      "  R2: -0.0327\n",
      "------------------------------\n"
     ]
    }
   ],
   "source": [
    "# Load the brain tumor dataset\n",
    "brain_data = pd.read_csv(\"brain_tumor_dataset.csv\")\n",
    "print(\"Brain Tumor Dataset Columns:\")\n",
    "print(brain_data.columns)\n",
    "\n",
    "target_column = 'Tumor_Size'  \n",
    "\n",
    "if target_column not in brain_data.columns:\n",
    "    print(f\"Target column '{target_column}' not found. Please update the target column name.\")\n",
    "else:\n",
    "    print(\"Running models on Brain Tumor Dataset...\")\n",
    "    brain_results = run_models(brain_data, target_column)\n"
   ]
  },
  {
   "cell_type": "markdown",
   "metadata": {},
   "source": [
    "###Analyze Dataset 2 – Car Price Prediction Dataset"
   ]
  },
  {
   "cell_type": "code",
   "execution_count": 12,
   "metadata": {},
   "outputs": [
    {
     "name": "stdout",
     "output_type": "stream",
     "text": [
      "Car Price Dataset Columns:\n",
      "Index(['Car ID', 'Brand', 'Year', 'Engine Size', 'Fuel Type', 'Transmission',\n",
      "       'Mileage', 'Condition', 'Price', 'Model'],\n",
      "      dtype='object')\n",
      "Running models on Car Price Prediction Dataset...\n",
      "SVR Results:\n",
      "  MSE: 757546915.9737\n",
      "  MAE: 23767.2034\n",
      "  R2: 0.0000\n",
      "------------------------------\n",
      "Decision Tree Results:\n",
      "  MSE: 1460959993.9981\n",
      "  MAE: 31052.1789\n",
      "  R2: -0.9285\n",
      "------------------------------\n",
      "Random Forest Results:\n",
      "  MSE: 789932943.6054\n",
      "  MAE: 24314.5340\n",
      "  R2: -0.0427\n",
      "------------------------------\n"
     ]
    }
   ],
   "source": [
    "# Load the car price prediction dataset\n",
    "car_data = pd.read_csv(\"car_price_prediction_.csv\")\n",
    "print(\"Car Price Dataset Columns:\")\n",
    "print(car_data.columns)\n",
    "\n",
    "\n",
    "target_column = 'Price'  \n",
    "\n",
    "if target_column not in car_data.columns:\n",
    "    print(f\"Target column '{target_column}' not found. Please update the target column name.\")\n",
    "else:\n",
    "    print(\"Running models on Car Price Prediction Dataset...\")\n",
    "    car_results = run_models(car_data, target_column)\n"
   ]
  },
  {
   "cell_type": "markdown",
   "metadata": {},
   "source": [
    "###Analyze Dataset 3 – Grocery Inventory Dataset"
   ]
  },
  {
   "cell_type": "code",
   "execution_count": 13,
   "metadata": {},
   "outputs": [
    {
     "name": "stdout",
     "output_type": "stream",
     "text": [
      "Grocery Inventory Dataset Columns:\n",
      "Index(['Product_Name', 'Catagory', 'Supplier_Name', 'Warehouse_Location',\n",
      "       'Status', 'Product_ID', 'Supplier_ID', 'Date_Received',\n",
      "       'Last_Order_Date', 'Expiration_Date', 'Stock_Quantity', 'Reorder_Level',\n",
      "       'Reorder_Quantity', 'Unit_Price', 'Sales_Volume',\n",
      "       'Inventory_Turnover_Rate', 'percentage'],\n",
      "      dtype='object')\n",
      "Running models on Grocery Inventory Dataset...\n",
      "SVR Results:\n",
      "  MSE: 857.6394\n",
      "  MAE: 25.3577\n",
      "  R2: -0.0002\n",
      "------------------------------\n",
      "Decision Tree Results:\n",
      "  MSE: 1547.2273\n",
      "  MAE: 31.2576\n",
      "  R2: -0.8045\n",
      "------------------------------\n",
      "Random Forest Results:\n",
      "  MSE: 878.2136\n",
      "  MAE: 25.4554\n",
      "  R2: -0.0242\n",
      "------------------------------\n"
     ]
    }
   ],
   "source": [
    "# Load the grocery inventory dataset\n",
    "grocery_data = pd.read_csv(\"Grocery_Inventory new v1.csv\")\n",
    "print(\"Grocery Inventory Dataset Columns:\")\n",
    "print(grocery_data.columns)\n",
    "\n",
    "target_column = 'Inventory_Turnover_Rate'  \n",
    "\n",
    "if target_column not in grocery_data.columns:\n",
    "    print(f\"Target column '{target_column}' not found. Please update the target column name.\")\n",
    "else:\n",
    "    print(\"Running models on Grocery Inventory Dataset...\")\n",
    "    grocery_results = run_models(grocery_data, target_column)\n"
   ]
  },
  {
   "cell_type": "markdown",
   "metadata": {},
   "source": [
    "###Comparing Results Across Datasets"
   ]
  },
  {
   "cell_type": "code",
   "execution_count": 14,
   "metadata": {},
   "outputs": [
    {
     "name": "stdout",
     "output_type": "stream",
     "text": [
      "Brain Tumor Dataset Results:\n",
      "{'SVR': {'MSE': 7.478769108715038, 'MAE': 2.358189682977991, 'R2': -0.0008704610454763895}, 'Decision Tree': {'MSE': 15.473505773096123, 'MAE': 3.2123951072422012, 'R2': -1.0707919487795827}, 'Random Forest': {'MSE': 7.716571907728853, 'MAE': 2.383612445304426, 'R2': -0.03269518963744589}}\n",
      "\n",
      "Car Price Prediction Dataset Results:\n",
      "{'SVR': {'MSE': 757546915.973701, 'MAE': 23767.20336498886, 'R2': 8.469780201636468e-06}, 'Decision Tree': {'MSE': 1460959993.998114, 'MAE': 31052.17888, 'R2': -0.9285242790676209}, 'Random Forest': {'MSE': 789932943.6053847, 'MAE': 24314.5340382, 'R2': -0.042742352177170595}}\n",
      "\n",
      "Grocery Inventory Dataset Results:\n",
      "{'SVR': {'MSE': 857.639420784125, 'MAE': 25.357662666378186, 'R2': -0.00023060595607860002}, 'Decision Tree': {'MSE': 1547.2272727272727, 'MAE': 31.257575757575758, 'R2': -0.8044693784444299}, 'Random Forest': {'MSE': 878.2136318181817, 'MAE': 25.45540404040404, 'R2': -0.024225486637808213}}\n"
     ]
    }
   ],
   "source": [
    "print(\"Brain Tumor Dataset Results:\")\n",
    "print(brain_results)\n",
    "print(\"\\nCar Price Prediction Dataset Results:\")\n",
    "print(car_results)\n",
    "print(\"\\nGrocery Inventory Dataset Results:\")\n",
    "print(grocery_results)\n"
   ]
  }
 ],
 "metadata": {
  "kernelspec": {
   "display_name": "Python 3",
   "language": "python",
   "name": "python3"
  },
  "language_info": {
   "codemirror_mode": {
    "name": "ipython",
    "version": 3
   },
   "file_extension": ".py",
   "mimetype": "text/x-python",
   "name": "python",
   "nbconvert_exporter": "python",
   "pygments_lexer": "ipython3",
   "version": "3.13.2"
  }
 },
 "nbformat": 4,
 "nbformat_minor": 2
}
